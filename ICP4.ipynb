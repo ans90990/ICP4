{
  "nbformat": 4,
  "nbformat_minor": 0,
  "metadata": {
    "colab": {
      "provenance": [],
      "authorship_tag": "ABX9TyMHj7kd74sdWUCxeh2xu7rh",
      "include_colab_link": true
    },
    "kernelspec": {
      "name": "python3",
      "display_name": "Python 3"
    },
    "language_info": {
      "name": "python"
    }
  },
  "cells": [
    {
      "cell_type": "markdown",
      "metadata": {
        "id": "view-in-github",
        "colab_type": "text"
      },
      "source": [
        "<a href=\"https://colab.research.google.com/github/ans90990/ICP4/blob/main/ICP4.ipynb\" target=\"_parent\"><img src=\"https://colab.research.google.com/assets/colab-badge.svg\" alt=\"Open In Colab\"/></a>"
      ]
    },
    {
      "cell_type": "code",
      "execution_count": null,
      "metadata": {
        "id": "pi8pQx5aO6L4"
      },
      "outputs": [],
      "source": [
        "import pandas as pd\n",
        "import matplotlib.pyplot as plt\n",
        "\n",
        "#1 Read the provided CSV file ‘data.csv’.\n",
        "data = (\"C:\\\\Users\\\\anori\\OneDrive\\Desktop\\Programming\\DSA4620 Big Data Analytics\\data.csv\")\n",
        "df = pd.read_csv(data)\n",
        "print(df)\n",
        "\n",
        "#2 Show the basic statistical description about the data.\n",
        "\n",
        "print(df.describe())\n",
        "\n",
        "# print(table[10:25])\n",
        "#3Check if the data has null values.\n",
        "\n",
        "mean_calories = df[\"Calories\"].mean()\n",
        "mean_duration = df[\"Duration\"].mean()\n",
        "mean_pulse = df[\"Pulse\"].mean()\n",
        "mean_maxPulse = df[\"Maxpulse\"].mean()\n",
        "#3a. Replace the null values with the mean\n",
        "df[\"Calories\"].fillna(value = mean_calories, inplace = True)\n",
        "df[\"Duration\"].fillna(value = mean_duration, inplace = True)\n",
        "df[\"Pulse\"].fillna(value = mean_pulse, inplace = True)\n",
        "df[\"Maxpulse\"].fillna(value = mean_maxPulse, inplace = True)\n",
        "\n",
        "# print(table[10:25])\n",
        "#4 print Select at least two columns and aggregate the data using: min, max, count, mean.\n",
        "#.agg function\n",
        "result = df.groupby(\"Pulse\").agg({\"Duration\" : ['mean', 'min', 'max']})\n",
        "print(result)\n",
        "\n",
        "#5 filter the dataframe to select the rows with calories >500 and pulse <100\n",
        "filter_cal = df.loc[(df[\"Calories\"] > 500) & (df[\"Calories\"] < 1000)]\n",
        "print(filter_cal)\n",
        "\n",
        "#6 filter select rows with calories\n",
        "filter_Cal_pulse = df.loc[(df[\"Calories\"] > 500) & (df[\"Pulse\"] < 100)]\n",
        "print(filter_Cal_pulse)\n",
        "\n",
        "#7create new df_modified with all data fields except for Maxpulse\n",
        "# df_modified = df['Duration', 'Pulse', 'Calories'].copy()\n",
        "df_modified = pd.DataFrame().assign(Duration = df[\"Duration\"], Pulse = df[\"Pulse\"], Calories = df[\"Calories\"])\n",
        "print(df_modified)\n",
        "#8 delete Maxpulse from original df\n",
        "del df[\"Maxpulse\"]\n",
        "\n",
        "#9 convert calories to int\n",
        "df[\"Calories\"] = df[\"Calories\"].astype(int)\n",
        "print(df)\n",
        "\n",
        "#10 create a scatter plot for duration and calories\n",
        "\n",
        "plt.scatter(df[\"Duration\"], df[\"Calories\"])\n",
        "plt.show()\n",
        "\n",
        "#q2\n",
        "#1: write a python programming to create a below chart of the popularity of programming Languages.\n",
        "labels = 'Java', 'Python', \"PHP\", \"JavaScript\", \"C#\", \"C++\"\n",
        "popularity = [22.2, 17.6, 8.8, 8, 7.7, 6.7]\n",
        "explode = (0.1, 0, 0, 0, 0, 0)\n",
        "fig, ax = plt.subplots()\n",
        "ax.pie(popularity, explode=explode, labels = labels, autopct = '%1.1f%%', shadow = True, startangle = 90)\n",
        "plt.show()\n",
        "#2 create a scatter plot\n",
        "math_marks = [88, 92, 80, 89, 100, 80, 60, 100, 80, 34]\n",
        "science_marks = [35, 79, 79, 48, 100, 88, 32, 45, 20, 30]\n",
        "marks_range = [10, 20, 30, 40, 50, 60, 70, 80, 90, 100]\n",
        "\n",
        "plt.scatter(marks_range, math_marks, label = \"Math Marks\")\n",
        "plt.scatter(marks_range, science_marks, label = \"Science Marks\")\n",
        "plt.xlabel('Marks Range')\n",
        "plt.ylabel('Marks Scored')\n",
        "plt.title('Scatter Plot')\n",
        "plt.legend()\n",
        "plt.show()\n",
        "\n"
      ]
    }
  ]
}